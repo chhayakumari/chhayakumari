{
 "cells": [
  {
   "cell_type": "code",
   "execution_count": 1,
   "metadata": {},
   "outputs": [],
   "source": [
    "import pandas as pd\n",
    "import numpy as np\n"
   ]
  },
  {
   "cell_type": "code",
   "execution_count": 2,
   "metadata": {},
   "outputs": [],
   "source": [
    "#load dataset\n",
    "dataset=pd.read_excel('Amazon(iphone 12) review1.xlsx')"
   ]
  },
  {
   "cell_type": "code",
   "execution_count": 3,
   "metadata": {},
   "outputs": [
    {
     "data": {
      "text/html": [
       "<div>\n",
       "<style scoped>\n",
       "    .dataframe tbody tr th:only-of-type {\n",
       "        vertical-align: middle;\n",
       "    }\n",
       "\n",
       "    .dataframe tbody tr th {\n",
       "        vertical-align: top;\n",
       "    }\n",
       "\n",
       "    .dataframe thead th {\n",
       "        text-align: right;\n",
       "    }\n",
       "</style>\n",
       "<table border=\"1\" class=\"dataframe\">\n",
       "  <thead>\n",
       "    <tr style=\"text-align: right;\">\n",
       "      <th></th>\n",
       "      <th>Serial.no</th>\n",
       "      <th>label</th>\n",
       "      <th>Review</th>\n",
       "      <th>Rating</th>\n",
       "    </tr>\n",
       "  </thead>\n",
       "  <tbody>\n",
       "    <tr>\n",
       "      <th>0</th>\n",
       "      <td>1</td>\n",
       "      <td>neg</td>\n",
       "      <td>A bit disappointed about the colour - it's a b...</td>\n",
       "      <td>3</td>\n",
       "    </tr>\n",
       "    <tr>\n",
       "      <th>1</th>\n",
       "      <td>2</td>\n",
       "      <td>pos</td>\n",
       "      <td>I always purchase this item each time I upgrad...</td>\n",
       "      <td>5</td>\n",
       "    </tr>\n",
       "    <tr>\n",
       "      <th>2</th>\n",
       "      <td>3</td>\n",
       "      <td>neg</td>\n",
       "      <td>Worst battery performance.Iphone 11 is far bet...</td>\n",
       "      <td>3</td>\n",
       "    </tr>\n",
       "    <tr>\n",
       "      <th>3</th>\n",
       "      <td>4</td>\n",
       "      <td>pos</td>\n",
       "      <td>I was on look out for a case that provides mo...</td>\n",
       "      <td>4</td>\n",
       "    </tr>\n",
       "    <tr>\n",
       "      <th>4</th>\n",
       "      <td>5</td>\n",
       "      <td>pos</td>\n",
       "      <td>The case fits well; the buttons are easy to ac...</td>\n",
       "      <td>4</td>\n",
       "    </tr>\n",
       "    <tr>\n",
       "      <th>5</th>\n",
       "      <td>6</td>\n",
       "      <td>pos</td>\n",
       "      <td>Really happy with the purchase</td>\n",
       "      <td>5</td>\n",
       "    </tr>\n",
       "    <tr>\n",
       "      <th>6</th>\n",
       "      <td>7</td>\n",
       "      <td>pos</td>\n",
       "      <td>Great battery life. Love the white colour. Blu...</td>\n",
       "      <td>5</td>\n",
       "    </tr>\n",
       "    <tr>\n",
       "      <th>7</th>\n",
       "      <td>8</td>\n",
       "      <td>pos</td>\n",
       "      <td>Amazing iPhone, worthy update.good display.dec...</td>\n",
       "      <td>5</td>\n",
       "    </tr>\n",
       "  </tbody>\n",
       "</table>\n",
       "</div>"
      ],
      "text/plain": [
       "   Serial.no label                                             Review  Rating\n",
       "0          1   neg  A bit disappointed about the colour - it's a b...       3\n",
       "1          2   pos  I always purchase this item each time I upgrad...       5\n",
       "2          3   neg  Worst battery performance.Iphone 11 is far bet...       3\n",
       "3          4   pos   I was on look out for a case that provides mo...       4\n",
       "4          5   pos  The case fits well; the buttons are easy to ac...       4\n",
       "5          6   pos                     Really happy with the purchase       5\n",
       "6          7   pos  Great battery life. Love the white colour. Blu...       5\n",
       "7          8   pos  Amazing iPhone, worthy update.good display.dec...       5"
      ]
     },
     "execution_count": 3,
     "metadata": {},
     "output_type": "execute_result"
    }
   ],
   "source": [
    "dataset"
   ]
  },
  {
   "cell_type": "markdown",
   "metadata": {},
   "source": [
    "#EDA:"
   ]
  },
  {
   "cell_type": "code",
   "execution_count": 4,
   "metadata": {},
   "outputs": [
    {
     "data": {
      "text/plain": [
       "<AxesSubplot:xlabel='Rating', ylabel='label'>"
      ]
     },
     "execution_count": 4,
     "metadata": {},
     "output_type": "execute_result"
    },
    {
     "data": {
      "image/png": "[encoded data removed]",
      "text/plain": [
       "<Figure size 864x432 with 1 Axes>"
      ]
     },
     "metadata": {
      "needs_background": "light"
     },
     "output_type": "display_data"
    }
   ],
   "source": [
    "import seaborn as sns\n",
    "import matplotlib.pyplot as plt\n",
    "plt.figure(figsize=(12,6))\n",
    "sns.lineplot(x='Rating',y='label',data=dataset)"
   ]
  },
  {
   "cell_type": "code",
   "execution_count": 25,
   "metadata": {},
   "outputs": [],
   "source": [
    "import warnings\n",
    "warnings.filterwarnings('ignore')"
   ]
  },
  {
   "cell_type": "code",
   "execution_count": 26,
   "metadata": {},
   "outputs": [
    {
     "data": {
      "text/plain": [
       "<AxesSubplot:xlabel='Rating', ylabel='Density'>"
      ]
     },
     "execution_count": 26,
     "metadata": {},
     "output_type": "execute_result"
    },
    {
     "data": {
      "image/png": "[encoded data removed]",
      "text/plain": [
       "<Figure size 432x288 with 1 Axes>"
      ]
     },
     "metadata": {
      "needs_background": "light"
     },
     "output_type": "display_data"
    }
   ],
   "source": [
    "sns.distplot(dataset['Rating'])"
   ]
  },
  {
   "cell_type": "code",
   "execution_count": 27,
   "metadata": {},
   "outputs": [
    {
     "data": {
      "text/plain": [
       "<AxesSubplot:>"
      ]
     },
     "execution_count": 27,
     "metadata": {},
     "output_type": "execute_result"
    },
    {
     "data": {
      "image/png": "[encoded data removed]",
      "text/plain": [
       "<Figure size 432x288 with 1 Axes>"
      ]
     },
     "metadata": {
      "needs_background": "light"
     },
     "output_type": "display_data"
    }
   ],
   "source": [
    "dataset['Rating'].plot.bar()"
   ]
  },
  {
   "cell_type": "code",
   "execution_count": 29,
   "metadata": {},
   "outputs": [
    {
     "data": {
      "text/plain": [
       "<AxesSubplot:xlabel='Rating', ylabel='label'>"
      ]
     },
     "execution_count": 29,
     "metadata": {},
     "output_type": "execute_result"
    },
    {
     "data": {
      "image/png": "[encoded data removed]",
      "text/plain": [
       "<Figure size 432x288 with 1 Axes>"
      ]
     },
     "metadata": {
      "needs_background": "light"
     },
     "output_type": "display_data"
    }
   ],
   "source": [
    "sns.scatterplot(x='Rating',y='label',data=dataset)"
   ]
  },
  {
   "cell_type": "code",
   "execution_count": 32,
   "metadata": {},
   "outputs": [
    {
     "data": {
      "text/plain": [
       "<AxesSubplot:>"
      ]
     },
     "execution_count": 32,
     "metadata": {},
     "output_type": "execute_result"
    },
    {
     "data": {
      "image/png": "[encoded data removed]",
      "text/plain": [
       "<Figure size 432x288 with 1 Axes>"
      ]
     },
     "metadata": {
      "needs_background": "light"
     },
     "output_type": "display_data"
    }
   ],
   "source": [
    "dataset['label'].value_counts().plot(kind='bar')"
   ]
  },
  {
   "cell_type": "code",
   "execution_count": 5,
   "metadata": {},
   "outputs": [
    {
     "data": {
      "text/plain": [
       "0    A bit disappointed about the colour - it's a b...\n",
       "1    I always purchase this item each time I upgrad...\n",
       "2    Worst battery performance.Iphone 11 is far bet...\n",
       "3     I was on look out for a case that provides mo...\n",
       "4    The case fits well; the buttons are easy to ac...\n",
       "5                       Really happy with the purchase\n",
       "6    Great battery life. Love the white colour. Blu...\n",
       "7    Amazing iPhone, worthy update.good display.dec...\n",
       "Name: Review, dtype: object"
      ]
     },
     "execution_count": 5,
     "metadata": {},
     "output_type": "execute_result"
    }
   ],
   "source": [
    "iphone_review=dataset['Review']\n",
    "iphone_review"
   ]
  },
  {
   "cell_type": "code",
   "execution_count": 6,
   "metadata": {},
   "outputs": [],
   "source": [
    "import nltk"
   ]
  },
  {
   "cell_type": "code",
   "execution_count": 7,
   "metadata": {},
   "outputs": [
    {
     "name": "stderr",
     "output_type": "stream",
     "text": [
      "[nltk_data] Downloading package vader_lexicon to\n",
      "[nltk_data]     C:\\Users\\lenovo\\AppData\\Roaming\\nltk_data...\n",
      "[nltk_data]   Package vader_lexicon is already up-to-date!\n"
     ]
    },
    {
     "data": {
      "text/plain": [
       "True"
      ]
     },
     "execution_count": 7,
     "metadata": {},
     "output_type": "execute_result"
    }
   ],
   "source": [
    "nltk.download('vader_lexicon')"
   ]
  },
  {
   "cell_type": "code",
   "execution_count": 8,
   "metadata": {},
   "outputs": [],
   "source": [
    "\n",
    "from nltk.sentiment.vader import SentimentIntensityAnalyzer"
   ]
  },
  {
   "cell_type": "code",
   "execution_count": 9,
   "metadata": {},
   "outputs": [],
   "source": [
    "sid=SentimentIntensityAnalyzer()"
   ]
  },
  {
   "cell_type": "code",
   "execution_count": 10,
   "metadata": {},
   "outputs": [
    {
     "data": {
      "text/plain": [
       "{'neg': 0.093, 'neu': 0.907, 'pos': 0.0, 'compound': -0.2617}"
      ]
     },
     "execution_count": 10,
     "metadata": {},
     "output_type": "execute_result"
    }
   ],
   "source": [
    "sid.polarity_scores(dataset.loc[0]['Review'])"
   ]
  },
  {
   "cell_type": "code",
   "execution_count": 11,
   "metadata": {},
   "outputs": [],
   "source": [
    "dataset['scores']=dataset['Review'].apply(lambda Review:sid.polarity_scores(Review))"
   ]
  },
  {
   "cell_type": "code",
   "execution_count": 12,
   "metadata": {},
   "outputs": [
    {
     "data": {
      "text/html": [
       "<div>\n",
       "<style scoped>\n",
       "    .dataframe tbody tr th:only-of-type {\n",
       "        vertical-align: middle;\n",
       "    }\n",
       "\n",
       "    .dataframe tbody tr th {\n",
       "        vertical-align: top;\n",
       "    }\n",
       "\n",
       "    .dataframe thead th {\n",
       "        text-align: right;\n",
       "    }\n",
       "</style>\n",
       "<table border=\"1\" class=\"dataframe\">\n",
       "  <thead>\n",
       "    <tr style=\"text-align: right;\">\n",
       "      <th></th>\n",
       "      <th>Serial.no</th>\n",
       "      <th>label</th>\n",
       "      <th>Review</th>\n",
       "      <th>Rating</th>\n",
       "      <th>scores</th>\n",
       "    </tr>\n",
       "  </thead>\n",
       "  <tbody>\n",
       "    <tr>\n",
       "      <th>0</th>\n",
       "      <td>1</td>\n",
       "      <td>neg</td>\n",
       "      <td>A bit disappointed about the colour - it's a b...</td>\n",
       "      <td>3</td>\n",
       "      <td>{'neg': 0.093, 'neu': 0.907, 'pos': 0.0, 'comp...</td>\n",
       "    </tr>\n",
       "    <tr>\n",
       "      <th>1</th>\n",
       "      <td>2</td>\n",
       "      <td>pos</td>\n",
       "      <td>I always purchase this item each time I upgrad...</td>\n",
       "      <td>5</td>\n",
       "      <td>{'neg': 0.0, 'neu': 0.787, 'pos': 0.213, 'comp...</td>\n",
       "    </tr>\n",
       "    <tr>\n",
       "      <th>2</th>\n",
       "      <td>3</td>\n",
       "      <td>neg</td>\n",
       "      <td>Worst battery performance.Iphone 11 is far bet...</td>\n",
       "      <td>3</td>\n",
       "      <td>{'neg': 0.123, 'neu': 0.721, 'pos': 0.156, 'co...</td>\n",
       "    </tr>\n",
       "    <tr>\n",
       "      <th>3</th>\n",
       "      <td>4</td>\n",
       "      <td>pos</td>\n",
       "      <td>I was on look out for a case that provides mo...</td>\n",
       "      <td>4</td>\n",
       "      <td>{'neg': 0.0, 'neu': 0.804, 'pos': 0.196, 'comp...</td>\n",
       "    </tr>\n",
       "    <tr>\n",
       "      <th>4</th>\n",
       "      <td>5</td>\n",
       "      <td>pos</td>\n",
       "      <td>The case fits well; the buttons are easy to ac...</td>\n",
       "      <td>4</td>\n",
       "      <td>{'neg': 0.096, 'neu': 0.684, 'pos': 0.22, 'com...</td>\n",
       "    </tr>\n",
       "    <tr>\n",
       "      <th>5</th>\n",
       "      <td>6</td>\n",
       "      <td>pos</td>\n",
       "      <td>Really happy with the purchase</td>\n",
       "      <td>5</td>\n",
       "      <td>{'neg': 0.0, 'neu': 0.5, 'pos': 0.5, 'compound...</td>\n",
       "    </tr>\n",
       "    <tr>\n",
       "      <th>6</th>\n",
       "      <td>7</td>\n",
       "      <td>pos</td>\n",
       "      <td>Great battery life. Love the white colour. Blu...</td>\n",
       "      <td>5</td>\n",
       "      <td>{'neg': 0.0, 'neu': 0.516, 'pos': 0.484, 'comp...</td>\n",
       "    </tr>\n",
       "    <tr>\n",
       "      <th>7</th>\n",
       "      <td>8</td>\n",
       "      <td>pos</td>\n",
       "      <td>Amazing iPhone, worthy update.good display.dec...</td>\n",
       "      <td>5</td>\n",
       "      <td>{'neg': 0.0, 'neu': 0.427, 'pos': 0.573, 'comp...</td>\n",
       "    </tr>\n",
       "  </tbody>\n",
       "</table>\n",
       "</div>"
      ],
      "text/plain": [
       "   Serial.no label                                             Review  Rating  \\\n",
       "0          1   neg  A bit disappointed about the colour - it's a b...       3   \n",
       "1          2   pos  I always purchase this item each time I upgrad...       5   \n",
       "2          3   neg  Worst battery performance.Iphone 11 is far bet...       3   \n",
       "3          4   pos   I was on look out for a case that provides mo...       4   \n",
       "4          5   pos  The case fits well; the buttons are easy to ac...       4   \n",
       "5          6   pos                     Really happy with the purchase       5   \n",
       "6          7   pos  Great battery life. Love the white colour. Blu...       5   \n",
       "7          8   pos  Amazing iPhone, worthy update.good display.dec...       5   \n",
       "\n",
       "                                              scores  \n",
       "0  {'neg': 0.093, 'neu': 0.907, 'pos': 0.0, 'comp...  \n",
       "1  {'neg': 0.0, 'neu': 0.787, 'pos': 0.213, 'comp...  \n",
       "2  {'neg': 0.123, 'neu': 0.721, 'pos': 0.156, 'co...  \n",
       "3  {'neg': 0.0, 'neu': 0.804, 'pos': 0.196, 'comp...  \n",
       "4  {'neg': 0.096, 'neu': 0.684, 'pos': 0.22, 'com...  \n",
       "5  {'neg': 0.0, 'neu': 0.5, 'pos': 0.5, 'compound...  \n",
       "6  {'neg': 0.0, 'neu': 0.516, 'pos': 0.484, 'comp...  \n",
       "7  {'neg': 0.0, 'neu': 0.427, 'pos': 0.573, 'comp...  "
      ]
     },
     "execution_count": 12,
     "metadata": {},
     "output_type": "execute_result"
    }
   ],
   "source": [
    "dataset"
   ]
  },
  {
   "cell_type": "code",
   "execution_count": 13,
   "metadata": {},
   "outputs": [],
   "source": [
    "dataset['compound']=dataset['scores'].apply(lambda scores:scores['compound'])"
   ]
  },
  {
   "cell_type": "code",
   "execution_count": 14,
   "metadata": {},
   "outputs": [
    {
     "data": {
      "text/html": [
       "<div>\n",
       "<style scoped>\n",
       "    .dataframe tbody tr th:only-of-type {\n",
       "        vertical-align: middle;\n",
       "    }\n",
       "\n",
       "    .dataframe tbody tr th {\n",
       "        vertical-align: top;\n",
       "    }\n",
       "\n",
       "    .dataframe thead th {\n",
       "        text-align: right;\n",
       "    }\n",
       "</style>\n",
       "<table border=\"1\" class=\"dataframe\">\n",
       "  <thead>\n",
       "    <tr style=\"text-align: right;\">\n",
       "      <th></th>\n",
       "      <th>Serial.no</th>\n",
       "      <th>label</th>\n",
       "      <th>Review</th>\n",
       "      <th>Rating</th>\n",
       "      <th>scores</th>\n",
       "      <th>compound</th>\n",
       "    </tr>\n",
       "  </thead>\n",
       "  <tbody>\n",
       "    <tr>\n",
       "      <th>0</th>\n",
       "      <td>1</td>\n",
       "      <td>neg</td>\n",
       "      <td>A bit disappointed about the colour - it's a b...</td>\n",
       "      <td>3</td>\n",
       "      <td>{'neg': 0.093, 'neu': 0.907, 'pos': 0.0, 'comp...</td>\n",
       "      <td>-0.2617</td>\n",
       "    </tr>\n",
       "    <tr>\n",
       "      <th>1</th>\n",
       "      <td>2</td>\n",
       "      <td>pos</td>\n",
       "      <td>I always purchase this item each time I upgrad...</td>\n",
       "      <td>5</td>\n",
       "      <td>{'neg': 0.0, 'neu': 0.787, 'pos': 0.213, 'comp...</td>\n",
       "      <td>0.5859</td>\n",
       "    </tr>\n",
       "    <tr>\n",
       "      <th>2</th>\n",
       "      <td>3</td>\n",
       "      <td>neg</td>\n",
       "      <td>Worst battery performance.Iphone 11 is far bet...</td>\n",
       "      <td>3</td>\n",
       "      <td>{'neg': 0.123, 'neu': 0.721, 'pos': 0.156, 'co...</td>\n",
       "      <td>0.0258</td>\n",
       "    </tr>\n",
       "    <tr>\n",
       "      <th>3</th>\n",
       "      <td>4</td>\n",
       "      <td>pos</td>\n",
       "      <td>I was on look out for a case that provides mo...</td>\n",
       "      <td>4</td>\n",
       "      <td>{'neg': 0.0, 'neu': 0.804, 'pos': 0.196, 'comp...</td>\n",
       "      <td>0.7269</td>\n",
       "    </tr>\n",
       "    <tr>\n",
       "      <th>4</th>\n",
       "      <td>5</td>\n",
       "      <td>pos</td>\n",
       "      <td>The case fits well; the buttons are easy to ac...</td>\n",
       "      <td>4</td>\n",
       "      <td>{'neg': 0.096, 'neu': 0.684, 'pos': 0.22, 'com...</td>\n",
       "      <td>0.5499</td>\n",
       "    </tr>\n",
       "    <tr>\n",
       "      <th>5</th>\n",
       "      <td>6</td>\n",
       "      <td>pos</td>\n",
       "      <td>Really happy with the purchase</td>\n",
       "      <td>5</td>\n",
       "      <td>{'neg': 0.0, 'neu': 0.5, 'pos': 0.5, 'compound...</td>\n",
       "      <td>0.6115</td>\n",
       "    </tr>\n",
       "    <tr>\n",
       "      <th>6</th>\n",
       "      <td>7</td>\n",
       "      <td>pos</td>\n",
       "      <td>Great battery life. Love the white colour. Blu...</td>\n",
       "      <td>5</td>\n",
       "      <td>{'neg': 0.0, 'neu': 0.516, 'pos': 0.484, 'comp...</td>\n",
       "      <td>0.9217</td>\n",
       "    </tr>\n",
       "    <tr>\n",
       "      <th>7</th>\n",
       "      <td>8</td>\n",
       "      <td>pos</td>\n",
       "      <td>Amazing iPhone, worthy update.good display.dec...</td>\n",
       "      <td>5</td>\n",
       "      <td>{'neg': 0.0, 'neu': 0.427, 'pos': 0.573, 'comp...</td>\n",
       "      <td>0.7717</td>\n",
       "    </tr>\n",
       "  </tbody>\n",
       "</table>\n",
       "</div>"
      ],
      "text/plain": [
       "   Serial.no label                                             Review  Rating  \\\n",
       "0          1   neg  A bit disappointed about the colour - it's a b...       3   \n",
       "1          2   pos  I always purchase this item each time I upgrad...       5   \n",
       "2          3   neg  Worst battery performance.Iphone 11 is far bet...       3   \n",
       "3          4   pos   I was on look out for a case that provides mo...       4   \n",
       "4          5   pos  The case fits well; the buttons are easy to ac...       4   \n",
       "5          6   pos                     Really happy with the purchase       5   \n",
       "6          7   pos  Great battery life. Love the white colour. Blu...       5   \n",
       "7          8   pos  Amazing iPhone, worthy update.good display.dec...       5   \n",
       "\n",
       "                                              scores  compound  \n",
       "0  {'neg': 0.093, 'neu': 0.907, 'pos': 0.0, 'comp...   -0.2617  \n",
       "1  {'neg': 0.0, 'neu': 0.787, 'pos': 0.213, 'comp...    0.5859  \n",
       "2  {'neg': 0.123, 'neu': 0.721, 'pos': 0.156, 'co...    0.0258  \n",
       "3  {'neg': 0.0, 'neu': 0.804, 'pos': 0.196, 'comp...    0.7269  \n",
       "4  {'neg': 0.096, 'neu': 0.684, 'pos': 0.22, 'com...    0.5499  \n",
       "5  {'neg': 0.0, 'neu': 0.5, 'pos': 0.5, 'compound...    0.6115  \n",
       "6  {'neg': 0.0, 'neu': 0.516, 'pos': 0.484, 'comp...    0.9217  \n",
       "7  {'neg': 0.0, 'neu': 0.427, 'pos': 0.573, 'comp...    0.7717  "
      ]
     },
     "execution_count": 14,
     "metadata": {},
     "output_type": "execute_result"
    }
   ],
   "source": [
    "dataset"
   ]
  },
  {
   "cell_type": "code",
   "execution_count": 15,
   "metadata": {},
   "outputs": [
    {
     "data": {
      "text/plain": [
       "-0.2617"
      ]
     },
     "execution_count": 15,
     "metadata": {},
     "output_type": "execute_result"
    }
   ],
   "source": [
    "dataset['scores'][0]['compound']"
   ]
  },
  {
   "cell_type": "code",
   "execution_count": 16,
   "metadata": {},
   "outputs": [],
   "source": [
    "dataset['comp_score']=dataset['compound'].apply(lambda compound:'pos' if compound>=0 else 'neg')"
   ]
  },
  {
   "cell_type": "code",
   "execution_count": 17,
   "metadata": {},
   "outputs": [
    {
     "data": {
      "text/html": [
       "<div>\n",
       "<style scoped>\n",
       "    .dataframe tbody tr th:only-of-type {\n",
       "        vertical-align: middle;\n",
       "    }\n",
       "\n",
       "    .dataframe tbody tr th {\n",
       "        vertical-align: top;\n",
       "    }\n",
       "\n",
       "    .dataframe thead th {\n",
       "        text-align: right;\n",
       "    }\n",
       "</style>\n",
       "<table border=\"1\" class=\"dataframe\">\n",
       "  <thead>\n",
       "    <tr style=\"text-align: right;\">\n",
       "      <th></th>\n",
       "      <th>Serial.no</th>\n",
       "      <th>label</th>\n",
       "      <th>Review</th>\n",
       "      <th>Rating</th>\n",
       "      <th>scores</th>\n",
       "      <th>compound</th>\n",
       "      <th>comp_score</th>\n",
       "    </tr>\n",
       "  </thead>\n",
       "  <tbody>\n",
       "    <tr>\n",
       "      <th>0</th>\n",
       "      <td>1</td>\n",
       "      <td>neg</td>\n",
       "      <td>A bit disappointed about the colour - it's a b...</td>\n",
       "      <td>3</td>\n",
       "      <td>{'neg': 0.093, 'neu': 0.907, 'pos': 0.0, 'comp...</td>\n",
       "      <td>-0.2617</td>\n",
       "      <td>neg</td>\n",
       "    </tr>\n",
       "    <tr>\n",
       "      <th>1</th>\n",
       "      <td>2</td>\n",
       "      <td>pos</td>\n",
       "      <td>I always purchase this item each time I upgrad...</td>\n",
       "      <td>5</td>\n",
       "      <td>{'neg': 0.0, 'neu': 0.787, 'pos': 0.213, 'comp...</td>\n",
       "      <td>0.5859</td>\n",
       "      <td>pos</td>\n",
       "    </tr>\n",
       "    <tr>\n",
       "      <th>2</th>\n",
       "      <td>3</td>\n",
       "      <td>neg</td>\n",
       "      <td>Worst battery performance.Iphone 11 is far bet...</td>\n",
       "      <td>3</td>\n",
       "      <td>{'neg': 0.123, 'neu': 0.721, 'pos': 0.156, 'co...</td>\n",
       "      <td>0.0258</td>\n",
       "      <td>pos</td>\n",
       "    </tr>\n",
       "    <tr>\n",
       "      <th>3</th>\n",
       "      <td>4</td>\n",
       "      <td>pos</td>\n",
       "      <td>I was on look out for a case that provides mo...</td>\n",
       "      <td>4</td>\n",
       "      <td>{'neg': 0.0, 'neu': 0.804, 'pos': 0.196, 'comp...</td>\n",
       "      <td>0.7269</td>\n",
       "      <td>pos</td>\n",
       "    </tr>\n",
       "    <tr>\n",
       "      <th>4</th>\n",
       "      <td>5</td>\n",
       "      <td>pos</td>\n",
       "      <td>The case fits well; the buttons are easy to ac...</td>\n",
       "      <td>4</td>\n",
       "      <td>{'neg': 0.096, 'neu': 0.684, 'pos': 0.22, 'com...</td>\n",
       "      <td>0.5499</td>\n",
       "      <td>pos</td>\n",
       "    </tr>\n",
       "    <tr>\n",
       "      <th>5</th>\n",
       "      <td>6</td>\n",
       "      <td>pos</td>\n",
       "      <td>Really happy with the purchase</td>\n",
       "      <td>5</td>\n",
       "      <td>{'neg': 0.0, 'neu': 0.5, 'pos': 0.5, 'compound...</td>\n",
       "      <td>0.6115</td>\n",
       "      <td>pos</td>\n",
       "    </tr>\n",
       "    <tr>\n",
       "      <th>6</th>\n",
       "      <td>7</td>\n",
       "      <td>pos</td>\n",
       "      <td>Great battery life. Love the white colour. Blu...</td>\n",
       "      <td>5</td>\n",
       "      <td>{'neg': 0.0, 'neu': 0.516, 'pos': 0.484, 'comp...</td>\n",
       "      <td>0.9217</td>\n",
       "      <td>pos</td>\n",
       "    </tr>\n",
       "    <tr>\n",
       "      <th>7</th>\n",
       "      <td>8</td>\n",
       "      <td>pos</td>\n",
       "      <td>Amazing iPhone, worthy update.good display.dec...</td>\n",
       "      <td>5</td>\n",
       "      <td>{'neg': 0.0, 'neu': 0.427, 'pos': 0.573, 'comp...</td>\n",
       "      <td>0.7717</td>\n",
       "      <td>pos</td>\n",
       "    </tr>\n",
       "  </tbody>\n",
       "</table>\n",
       "</div>"
      ],
      "text/plain": [
       "   Serial.no label                                             Review  Rating  \\\n",
       "0          1   neg  A bit disappointed about the colour - it's a b...       3   \n",
       "1          2   pos  I always purchase this item each time I upgrad...       5   \n",
       "2          3   neg  Worst battery performance.Iphone 11 is far bet...       3   \n",
       "3          4   pos   I was on look out for a case that provides mo...       4   \n",
       "4          5   pos  The case fits well; the buttons are easy to ac...       4   \n",
       "5          6   pos                     Really happy with the purchase       5   \n",
       "6          7   pos  Great battery life. Love the white colour. Blu...       5   \n",
       "7          8   pos  Amazing iPhone, worthy update.good display.dec...       5   \n",
       "\n",
       "                                              scores  compound comp_score  \n",
       "0  {'neg': 0.093, 'neu': 0.907, 'pos': 0.0, 'comp...   -0.2617        neg  \n",
       "1  {'neg': 0.0, 'neu': 0.787, 'pos': 0.213, 'comp...    0.5859        pos  \n",
       "2  {'neg': 0.123, 'neu': 0.721, 'pos': 0.156, 'co...    0.0258        pos  \n",
       "3  {'neg': 0.0, 'neu': 0.804, 'pos': 0.196, 'comp...    0.7269        pos  \n",
       "4  {'neg': 0.096, 'neu': 0.684, 'pos': 0.22, 'com...    0.5499        pos  \n",
       "5  {'neg': 0.0, 'neu': 0.5, 'pos': 0.5, 'compound...    0.6115        pos  \n",
       "6  {'neg': 0.0, 'neu': 0.516, 'pos': 0.484, 'comp...    0.9217        pos  \n",
       "7  {'neg': 0.0, 'neu': 0.427, 'pos': 0.573, 'comp...    0.7717        pos  "
      ]
     },
     "execution_count": 17,
     "metadata": {},
     "output_type": "execute_result"
    }
   ],
   "source": [
    "dataset"
   ]
  },
  {
   "cell_type": "code",
   "execution_count": 18,
   "metadata": {},
   "outputs": [],
   "source": [
    "from sklearn.metrics import accuracy_score,classification_report,confusion_matrix"
   ]
  },
  {
   "cell_type": "code",
   "execution_count": 19,
   "metadata": {},
   "outputs": [
    {
     "data": {
      "text/plain": [
       "0.875"
      ]
     },
     "execution_count": 19,
     "metadata": {},
     "output_type": "execute_result"
    }
   ],
   "source": [
    "accuracy_score(dataset['label'],dataset['comp_score'])"
   ]
  },
  {
   "cell_type": "code",
   "execution_count": 20,
   "metadata": {},
   "outputs": [
    {
     "name": "stdout",
     "output_type": "stream",
     "text": [
      "              precision    recall  f1-score   support\n",
      "\n",
      "         neg       1.00      0.50      0.67         2\n",
      "         pos       0.86      1.00      0.92         6\n",
      "\n",
      "    accuracy                           0.88         8\n",
      "   macro avg       0.93      0.75      0.79         8\n",
      "weighted avg       0.89      0.88      0.86         8\n",
      "\n"
     ]
    }
   ],
   "source": [
    "print(classification_report(dataset['label'],dataset['comp_score']))"
   ]
  },
  {
   "cell_type": "code",
   "execution_count": 21,
   "metadata": {},
   "outputs": [
    {
     "name": "stdout",
     "output_type": "stream",
     "text": [
      "[[1 1]\n",
      " [0 6]]\n"
     ]
    }
   ],
   "source": [
    "print(confusion_matrix(dataset['label'],dataset['comp_score']))"
   ]
  },
  {
   "cell_type": "code",
   "execution_count": null,
   "metadata": {},
   "outputs": [],
   "source": []
  }
 ],
 "metadata": {
  "kernelspec": {
   "display_name": "Python 3",
   "language": "python",
   "name": "python3"
  },
  "language_info": {
   "codemirror_mode": {
    "name": "ipython",
    "version": 3
   },
   "file_extension": ".py",
   "mimetype": "text/x-python",
   "name": "python",
   "nbconvert_exporter": "python",
   "pygments_lexer": "ipython3",
   "version": "3.8.5"
  }
 },
 "nbformat": 4,
 "nbformat_minor": 4
}
